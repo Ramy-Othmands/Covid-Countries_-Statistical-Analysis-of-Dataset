{
 "cells": [
  {
   "cell_type": "code",
   "execution_count": 1,
   "id": "1a007099",
   "metadata": {},
   "outputs": [],
   "source": [
    "import numpy as np\n",
    "import pandas as pd\n",
    "import matplotlib.pyplot as plt\n",
    "import seaborn as sb"
   ]
  },
  {
   "cell_type": "code",
   "execution_count": 2,
   "id": "13316255",
   "metadata": {},
   "outputs": [],
   "source": [
    "df = pd.read_csv('covid_countries_data.csv')"
   ]
  },
  {
   "cell_type": "code",
   "execution_count": 3,
   "id": "cf7ec34a",
   "metadata": {},
   "outputs": [
    {
     "data": {
      "text/html": [
       "<div>\n",
       "<style scoped>\n",
       "    .dataframe tbody tr th:only-of-type {\n",
       "        vertical-align: middle;\n",
       "    }\n",
       "\n",
       "    .dataframe tbody tr th {\n",
       "        vertical-align: top;\n",
       "    }\n",
       "\n",
       "    .dataframe thead th {\n",
       "        text-align: right;\n",
       "    }\n",
       "</style>\n",
       "<table border=\"1\" class=\"dataframe\">\n",
       "  <thead>\n",
       "    <tr style=\"text-align: right;\">\n",
       "      <th></th>\n",
       "      <th>location</th>\n",
       "      <th>date</th>\n",
       "      <th>total_cases</th>\n",
       "      <th>new_cases</th>\n",
       "      <th>total_deaths</th>\n",
       "      <th>new_deaths</th>\n",
       "      <th>population</th>\n",
       "    </tr>\n",
       "  </thead>\n",
       "  <tbody>\n",
       "    <tr>\n",
       "      <th>0</th>\n",
       "      <td>Afghanistan</td>\n",
       "      <td>2/24/20</td>\n",
       "      <td>5</td>\n",
       "      <td>5</td>\n",
       "      <td>0</td>\n",
       "      <td>0</td>\n",
       "      <td>41128772</td>\n",
       "    </tr>\n",
       "    <tr>\n",
       "      <th>1</th>\n",
       "      <td>Afghanistan</td>\n",
       "      <td>2/25/20</td>\n",
       "      <td>5</td>\n",
       "      <td>0</td>\n",
       "      <td>0</td>\n",
       "      <td>0</td>\n",
       "      <td>41128772</td>\n",
       "    </tr>\n",
       "    <tr>\n",
       "      <th>2</th>\n",
       "      <td>Afghanistan</td>\n",
       "      <td>2/26/20</td>\n",
       "      <td>5</td>\n",
       "      <td>0</td>\n",
       "      <td>0</td>\n",
       "      <td>0</td>\n",
       "      <td>41128772</td>\n",
       "    </tr>\n",
       "    <tr>\n",
       "      <th>3</th>\n",
       "      <td>Afghanistan</td>\n",
       "      <td>2/27/20</td>\n",
       "      <td>5</td>\n",
       "      <td>0</td>\n",
       "      <td>0</td>\n",
       "      <td>0</td>\n",
       "      <td>41128772</td>\n",
       "    </tr>\n",
       "    <tr>\n",
       "      <th>4</th>\n",
       "      <td>Afghanistan</td>\n",
       "      <td>2/28/20</td>\n",
       "      <td>5</td>\n",
       "      <td>0</td>\n",
       "      <td>0</td>\n",
       "      <td>0</td>\n",
       "      <td>41128772</td>\n",
       "    </tr>\n",
       "    <tr>\n",
       "      <th>...</th>\n",
       "      <td>...</td>\n",
       "      <td>...</td>\n",
       "      <td>...</td>\n",
       "      <td>...</td>\n",
       "      <td>...</td>\n",
       "      <td>...</td>\n",
       "      <td>...</td>\n",
       "    </tr>\n",
       "    <tr>\n",
       "      <th>195</th>\n",
       "      <td>Afghanistan</td>\n",
       "      <td>9/6/20</td>\n",
       "      <td>38484</td>\n",
       "      <td>94</td>\n",
       "      <td>1416</td>\n",
       "      <td>3</td>\n",
       "      <td>41128772</td>\n",
       "    </tr>\n",
       "    <tr>\n",
       "      <th>196</th>\n",
       "      <td>Afghanistan</td>\n",
       "      <td>9/7/20</td>\n",
       "      <td>38580</td>\n",
       "      <td>96</td>\n",
       "      <td>1419</td>\n",
       "      <td>3</td>\n",
       "      <td>41128772</td>\n",
       "    </tr>\n",
       "    <tr>\n",
       "      <th>197</th>\n",
       "      <td>Afghanistan</td>\n",
       "      <td>9/8/20</td>\n",
       "      <td>38606</td>\n",
       "      <td>26</td>\n",
       "      <td>1422</td>\n",
       "      <td>3</td>\n",
       "      <td>41128772</td>\n",
       "    </tr>\n",
       "    <tr>\n",
       "      <th>198</th>\n",
       "      <td>Afghanistan</td>\n",
       "      <td>9/9/20</td>\n",
       "      <td>38630</td>\n",
       "      <td>24</td>\n",
       "      <td>1424</td>\n",
       "      <td>2</td>\n",
       "      <td>41128772</td>\n",
       "    </tr>\n",
       "    <tr>\n",
       "      <th>199</th>\n",
       "      <td>Afghanistan</td>\n",
       "      <td>9/10/20</td>\n",
       "      <td>38658</td>\n",
       "      <td>28</td>\n",
       "      <td>1424</td>\n",
       "      <td>0</td>\n",
       "      <td>41128772</td>\n",
       "    </tr>\n",
       "  </tbody>\n",
       "</table>\n",
       "<p>200 rows × 7 columns</p>\n",
       "</div>"
      ],
      "text/plain": [
       "        location     date  total_cases  new_cases  total_deaths  new_deaths  \\\n",
       "0    Afghanistan  2/24/20            5          5             0           0   \n",
       "1    Afghanistan  2/25/20            5          0             0           0   \n",
       "2    Afghanistan  2/26/20            5          0             0           0   \n",
       "3    Afghanistan  2/27/20            5          0             0           0   \n",
       "4    Afghanistan  2/28/20            5          0             0           0   \n",
       "..           ...      ...          ...        ...           ...         ...   \n",
       "195  Afghanistan   9/6/20        38484         94          1416           3   \n",
       "196  Afghanistan   9/7/20        38580         96          1419           3   \n",
       "197  Afghanistan   9/8/20        38606         26          1422           3   \n",
       "198  Afghanistan   9/9/20        38630         24          1424           2   \n",
       "199  Afghanistan  9/10/20        38658         28          1424           0   \n",
       "\n",
       "     population  \n",
       "0      41128772  \n",
       "1      41128772  \n",
       "2      41128772  \n",
       "3      41128772  \n",
       "4      41128772  \n",
       "..          ...  \n",
       "195    41128772  \n",
       "196    41128772  \n",
       "197    41128772  \n",
       "198    41128772  \n",
       "199    41128772  \n",
       "\n",
       "[200 rows x 7 columns]"
      ]
     },
     "execution_count": 3,
     "metadata": {},
     "output_type": "execute_result"
    }
   ],
   "source": [
    "df.head(200)"
   ]
  },
  {
   "cell_type": "code",
   "execution_count": 4,
   "id": "841ba336",
   "metadata": {},
   "outputs": [],
   "source": [
    "# 1. At least two statistical summary (mean, sum, count, median etc)."
   ]
  },
  {
   "cell_type": "code",
   "execution_count": 5,
   "id": "f62f6a48",
   "metadata": {},
   "outputs": [
    {
     "data": {
      "text/html": [
       "<div>\n",
       "<style scoped>\n",
       "    .dataframe tbody tr th:only-of-type {\n",
       "        vertical-align: middle;\n",
       "    }\n",
       "\n",
       "    .dataframe tbody tr th {\n",
       "        vertical-align: top;\n",
       "    }\n",
       "\n",
       "    .dataframe thead th {\n",
       "        text-align: right;\n",
       "    }\n",
       "</style>\n",
       "<table border=\"1\" class=\"dataframe\">\n",
       "  <thead>\n",
       "    <tr style=\"text-align: right;\">\n",
       "      <th></th>\n",
       "      <th>total_cases</th>\n",
       "      <th>new_cases</th>\n",
       "      <th>total_deaths</th>\n",
       "      <th>new_deaths</th>\n",
       "      <th>population</th>\n",
       "    </tr>\n",
       "  </thead>\n",
       "  <tbody>\n",
       "    <tr>\n",
       "      <th>count</th>\n",
       "      <td>2.457250e+05</td>\n",
       "      <td>2.457250e+05</td>\n",
       "      <td>2.457250e+05</td>\n",
       "      <td>245725.000000</td>\n",
       "      <td>2.457250e+05</td>\n",
       "    </tr>\n",
       "    <tr>\n",
       "      <th>mean</th>\n",
       "      <td>1.262001e+06</td>\n",
       "      <td>2.794144e+03</td>\n",
       "      <td>1.756822e+04</td>\n",
       "      <td>27.880269</td>\n",
       "      <td>3.639720e+07</td>\n",
       "    </tr>\n",
       "    <tr>\n",
       "      <th>std</th>\n",
       "      <td>5.514956e+06</td>\n",
       "      <td>1.715704e+04</td>\n",
       "      <td>7.246697e+04</td>\n",
       "      <td>193.903385</td>\n",
       "      <td>1.407551e+08</td>\n",
       "    </tr>\n",
       "    <tr>\n",
       "      <th>min</th>\n",
       "      <td>0.000000e+00</td>\n",
       "      <td>0.000000e+00</td>\n",
       "      <td>0.000000e+00</td>\n",
       "      <td>0.000000</td>\n",
       "      <td>4.700000e+01</td>\n",
       "    </tr>\n",
       "    <tr>\n",
       "      <th>25%</th>\n",
       "      <td>2.717000e+03</td>\n",
       "      <td>0.000000e+00</td>\n",
       "      <td>2.800000e+01</td>\n",
       "      <td>0.000000</td>\n",
       "      <td>7.242720e+05</td>\n",
       "    </tr>\n",
       "    <tr>\n",
       "      <th>50%</th>\n",
       "      <td>3.759100e+04</td>\n",
       "      <td>1.600000e+01</td>\n",
       "      <td>5.510000e+02</td>\n",
       "      <td>0.000000</td>\n",
       "      <td>6.336393e+06</td>\n",
       "    </tr>\n",
       "    <tr>\n",
       "      <th>75%</th>\n",
       "      <td>4.049700e+05</td>\n",
       "      <td>4.710000e+02</td>\n",
       "      <td>6.030000e+03</td>\n",
       "      <td>5.000000</td>\n",
       "      <td>2.620798e+07</td>\n",
       "    </tr>\n",
       "    <tr>\n",
       "      <th>max</th>\n",
       "      <td>1.031685e+08</td>\n",
       "      <td>1.354500e+06</td>\n",
       "      <td>1.117820e+06</td>\n",
       "      <td>59895.000000</td>\n",
       "      <td>1.425887e+09</td>\n",
       "    </tr>\n",
       "  </tbody>\n",
       "</table>\n",
       "</div>"
      ],
      "text/plain": [
       "        total_cases     new_cases  total_deaths     new_deaths    population\n",
       "count  2.457250e+05  2.457250e+05  2.457250e+05  245725.000000  2.457250e+05\n",
       "mean   1.262001e+06  2.794144e+03  1.756822e+04      27.880269  3.639720e+07\n",
       "std    5.514956e+06  1.715704e+04  7.246697e+04     193.903385  1.407551e+08\n",
       "min    0.000000e+00  0.000000e+00  0.000000e+00       0.000000  4.700000e+01\n",
       "25%    2.717000e+03  0.000000e+00  2.800000e+01       0.000000  7.242720e+05\n",
       "50%    3.759100e+04  1.600000e+01  5.510000e+02       0.000000  6.336393e+06\n",
       "75%    4.049700e+05  4.710000e+02  6.030000e+03       5.000000  2.620798e+07\n",
       "max    1.031685e+08  1.354500e+06  1.117820e+06   59895.000000  1.425887e+09"
      ]
     },
     "execution_count": 5,
     "metadata": {},
     "output_type": "execute_result"
    }
   ],
   "source": [
    "df.describe()"
   ]
  },
  {
   "cell_type": "code",
   "execution_count": 6,
   "id": "682272c0",
   "metadata": {},
   "outputs": [
    {
     "data": {
      "text/html": [
       "<div>\n",
       "<style scoped>\n",
       "    .dataframe tbody tr th:only-of-type {\n",
       "        vertical-align: middle;\n",
       "    }\n",
       "\n",
       "    .dataframe tbody tr th {\n",
       "        vertical-align: top;\n",
       "    }\n",
       "\n",
       "    .dataframe thead th {\n",
       "        text-align: right;\n",
       "    }\n",
       "</style>\n",
       "<table border=\"1\" class=\"dataframe\">\n",
       "  <thead>\n",
       "    <tr style=\"text-align: right;\">\n",
       "      <th></th>\n",
       "      <th>location</th>\n",
       "      <th>date</th>\n",
       "      <th>total_cases</th>\n",
       "      <th>new_cases</th>\n",
       "      <th>total_deaths</th>\n",
       "      <th>new_deaths</th>\n",
       "      <th>population</th>\n",
       "    </tr>\n",
       "  </thead>\n",
       "  <tbody>\n",
       "    <tr>\n",
       "      <th>1093</th>\n",
       "      <td>Afghanistan</td>\n",
       "      <td>2023-02-21</td>\n",
       "      <td>209181</td>\n",
       "      <td>28</td>\n",
       "      <td>7896</td>\n",
       "      <td>0</td>\n",
       "      <td>41128772</td>\n",
       "    </tr>\n",
       "    <tr>\n",
       "      <th>2186</th>\n",
       "      <td>Albania</td>\n",
       "      <td>2023-02-21</td>\n",
       "      <td>334336</td>\n",
       "      <td>21</td>\n",
       "      <td>3596</td>\n",
       "      <td>0</td>\n",
       "      <td>2842318</td>\n",
       "    </tr>\n",
       "    <tr>\n",
       "      <th>3279</th>\n",
       "      <td>Algeria</td>\n",
       "      <td>2023-02-21</td>\n",
       "      <td>271428</td>\n",
       "      <td>2</td>\n",
       "      <td>6881</td>\n",
       "      <td>0</td>\n",
       "      <td>44903228</td>\n",
       "    </tr>\n",
       "    <tr>\n",
       "      <th>4366</th>\n",
       "      <td>Andorra</td>\n",
       "      <td>2023-02-21</td>\n",
       "      <td>47866</td>\n",
       "      <td>0</td>\n",
       "      <td>165</td>\n",
       "      <td>0</td>\n",
       "      <td>79843</td>\n",
       "    </tr>\n",
       "    <tr>\n",
       "      <th>5435</th>\n",
       "      <td>Angola</td>\n",
       "      <td>2023-02-21</td>\n",
       "      <td>105184</td>\n",
       "      <td>0</td>\n",
       "      <td>1931</td>\n",
       "      <td>0</td>\n",
       "      <td>35588996</td>\n",
       "    </tr>\n",
       "    <tr>\n",
       "      <th>...</th>\n",
       "      <td>...</td>\n",
       "      <td>...</td>\n",
       "      <td>...</td>\n",
       "      <td>...</td>\n",
       "      <td>...</td>\n",
       "      <td>...</td>\n",
       "      <td>...</td>\n",
       "    </tr>\n",
       "    <tr>\n",
       "      <th>240626</th>\n",
       "      <td>Vietnam</td>\n",
       "      <td>2023-02-21</td>\n",
       "      <td>11526834</td>\n",
       "      <td>9</td>\n",
       "      <td>43186</td>\n",
       "      <td>0</td>\n",
       "      <td>98186856</td>\n",
       "    </tr>\n",
       "    <tr>\n",
       "      <th>242535</th>\n",
       "      <td>Wallis and Futuna</td>\n",
       "      <td>2023-02-21</td>\n",
       "      <td>3427</td>\n",
       "      <td>0</td>\n",
       "      <td>7</td>\n",
       "      <td>0</td>\n",
       "      <td>11596</td>\n",
       "    </tr>\n",
       "    <tr>\n",
       "      <th>243584</th>\n",
       "      <td>Yemen</td>\n",
       "      <td>2023-02-21</td>\n",
       "      <td>11945</td>\n",
       "      <td>0</td>\n",
       "      <td>2159</td>\n",
       "      <td>0</td>\n",
       "      <td>33696612</td>\n",
       "    </tr>\n",
       "    <tr>\n",
       "      <th>244655</th>\n",
       "      <td>Zambia</td>\n",
       "      <td>2023-02-21</td>\n",
       "      <td>342782</td>\n",
       "      <td>58</td>\n",
       "      <td>4055</td>\n",
       "      <td>1</td>\n",
       "      <td>20017670</td>\n",
       "    </tr>\n",
       "    <tr>\n",
       "      <th>245724</th>\n",
       "      <td>Zimbabwe</td>\n",
       "      <td>2023-02-21</td>\n",
       "      <td>263642</td>\n",
       "      <td>0</td>\n",
       "      <td>5662</td>\n",
       "      <td>0</td>\n",
       "      <td>16320539</td>\n",
       "    </tr>\n",
       "  </tbody>\n",
       "</table>\n",
       "<p>219 rows × 7 columns</p>\n",
       "</div>"
      ],
      "text/plain": [
       "                 location       date  total_cases  new_cases  total_deaths  \\\n",
       "1093          Afghanistan 2023-02-21       209181         28          7896   \n",
       "2186              Albania 2023-02-21       334336         21          3596   \n",
       "3279              Algeria 2023-02-21       271428          2          6881   \n",
       "4366              Andorra 2023-02-21        47866          0           165   \n",
       "5435               Angola 2023-02-21       105184          0          1931   \n",
       "...                   ...        ...          ...        ...           ...   \n",
       "240626            Vietnam 2023-02-21     11526834          9         43186   \n",
       "242535  Wallis and Futuna 2023-02-21         3427          0             7   \n",
       "243584              Yemen 2023-02-21        11945          0          2159   \n",
       "244655             Zambia 2023-02-21       342782         58          4055   \n",
       "245724           Zimbabwe 2023-02-21       263642          0          5662   \n",
       "\n",
       "        new_deaths  population  \n",
       "1093             0    41128772  \n",
       "2186             0     2842318  \n",
       "3279             0    44903228  \n",
       "4366             0       79843  \n",
       "5435             0    35588996  \n",
       "...            ...         ...  \n",
       "240626           0    98186856  \n",
       "242535           0       11596  \n",
       "243584           0    33696612  \n",
       "244655           1    20017670  \n",
       "245724           0    16320539  \n",
       "\n",
       "[219 rows x 7 columns]"
      ]
     },
     "execution_count": 6,
     "metadata": {},
     "output_type": "execute_result"
    }
   ],
   "source": [
    "# Since the figures are cumilative I choosed last date of record wich is 2023-02-21 \t\n",
    "df['date'] = pd.to_datetime(df['date'])\n",
    "new_df = df[df['date'] ==     '2023-02-21']\n",
    "new_df\n"
   ]
  },
  {
   "cell_type": "code",
   "execution_count": 7,
   "id": "d796528d",
   "metadata": {},
   "outputs": [
    {
     "data": {
      "text/html": [
       "<div>\n",
       "<style scoped>\n",
       "    .dataframe tbody tr th:only-of-type {\n",
       "        vertical-align: middle;\n",
       "    }\n",
       "\n",
       "    .dataframe tbody tr th {\n",
       "        vertical-align: top;\n",
       "    }\n",
       "\n",
       "    .dataframe thead th {\n",
       "        text-align: right;\n",
       "    }\n",
       "</style>\n",
       "<table border=\"1\" class=\"dataframe\">\n",
       "  <thead>\n",
       "    <tr style=\"text-align: right;\">\n",
       "      <th></th>\n",
       "      <th>location</th>\n",
       "      <th>date</th>\n",
       "      <th>total_cases</th>\n",
       "      <th>new_cases</th>\n",
       "      <th>total_deaths</th>\n",
       "      <th>new_deaths</th>\n",
       "      <th>population</th>\n",
       "    </tr>\n",
       "  </thead>\n",
       "  <tbody>\n",
       "    <tr>\n",
       "      <th>233540</th>\n",
       "      <td>United States</td>\n",
       "      <td>2023-02-21</td>\n",
       "      <td>103168534</td>\n",
       "      <td>43889</td>\n",
       "      <td>1117820</td>\n",
       "      <td>257</td>\n",
       "      <td>338289856</td>\n",
       "    </tr>\n",
       "  </tbody>\n",
       "</table>\n",
       "</div>"
      ],
      "text/plain": [
       "             location       date  total_cases  new_cases  total_deaths  \\\n",
       "233540  United States 2023-02-21    103168534      43889       1117820   \n",
       "\n",
       "        new_deaths  population  \n",
       "233540         257   338289856  "
      ]
     },
     "execution_count": 7,
     "metadata": {},
     "output_type": "execute_result"
    }
   ],
   "source": [
    "# I will work on the United States with last cumulative record\n",
    "new_df[new_df['location'] == 'United States'] \n"
   ]
  },
  {
   "cell_type": "code",
   "execution_count": 8,
   "id": "d1738031",
   "metadata": {},
   "outputs": [
    {
     "name": "stderr",
     "output_type": "stream",
     "text": [
      "/var/folders/rb/8k519z7935d2j5l0x1lztqx40000gn/T/ipykernel_24877/10759652.py:2: FutureWarning: Dropping of nuisance columns in DataFrame reductions (with 'numeric_only=None') is deprecated; in a future version this will raise TypeError.  Select only valid columns before calling the reduction.\n",
      "  new_df[new_df['location'] == 'United States'].sum()\n"
     ]
    },
    {
     "data": {
      "text/plain": [
       "location        United States\n",
       "total_cases         103168534\n",
       "new_cases               43889\n",
       "total_deaths          1117820\n",
       "new_deaths                257\n",
       "population          338289856\n",
       "dtype: object"
      ]
     },
     "execution_count": 8,
     "metadata": {},
     "output_type": "execute_result"
    }
   ],
   "source": [
    "# Getting .sum() for the United States:  \n",
    "new_df[new_df['location'] == 'United States'].sum()"
   ]
  },
  {
   "cell_type": "code",
   "execution_count": 9,
   "id": "efaca51e",
   "metadata": {},
   "outputs": [
    {
     "data": {
      "text/html": [
       "<div>\n",
       "<style scoped>\n",
       "    .dataframe tbody tr th:only-of-type {\n",
       "        vertical-align: middle;\n",
       "    }\n",
       "\n",
       "    .dataframe tbody tr th {\n",
       "        vertical-align: top;\n",
       "    }\n",
       "\n",
       "    .dataframe thead th {\n",
       "        text-align: right;\n",
       "    }\n",
       "</style>\n",
       "<table border=\"1\" class=\"dataframe\">\n",
       "  <thead>\n",
       "    <tr style=\"text-align: right;\">\n",
       "      <th></th>\n",
       "      <th>total_cases</th>\n",
       "      <th>new_cases</th>\n",
       "      <th>total_deaths</th>\n",
       "      <th>new_deaths</th>\n",
       "      <th>population</th>\n",
       "    </tr>\n",
       "  </thead>\n",
       "  <tbody>\n",
       "    <tr>\n",
       "      <th>count</th>\n",
       "      <td>2.190000e+02</td>\n",
       "      <td>219.000000</td>\n",
       "      <td>2.190000e+02</td>\n",
       "      <td>219.000000</td>\n",
       "      <td>2.190000e+02</td>\n",
       "    </tr>\n",
       "    <tr>\n",
       "      <th>mean</th>\n",
       "      <td>3.142277e+06</td>\n",
       "      <td>746.063927</td>\n",
       "      <td>3.145535e+04</td>\n",
       "      <td>3.114155</td>\n",
       "      <td>3.657335e+07</td>\n",
       "    </tr>\n",
       "    <tr>\n",
       "      <th>std</th>\n",
       "      <td>9.711701e+06</td>\n",
       "      <td>4024.554486</td>\n",
       "      <td>1.061184e+05</td>\n",
       "      <td>19.789042</td>\n",
       "      <td>1.410873e+08</td>\n",
       "    </tr>\n",
       "    <tr>\n",
       "      <th>min</th>\n",
       "      <td>1.000000e+00</td>\n",
       "      <td>0.000000</td>\n",
       "      <td>0.000000e+00</td>\n",
       "      <td>0.000000</td>\n",
       "      <td>8.080000e+02</td>\n",
       "    </tr>\n",
       "    <tr>\n",
       "      <th>25%</th>\n",
       "      <td>2.893600e+04</td>\n",
       "      <td>0.000000</td>\n",
       "      <td>2.315000e+02</td>\n",
       "      <td>0.000000</td>\n",
       "      <td>7.533645e+05</td>\n",
       "    </tr>\n",
       "    <tr>\n",
       "      <th>50%</th>\n",
       "      <td>2.636420e+05</td>\n",
       "      <td>0.000000</td>\n",
       "      <td>2.686000e+03</td>\n",
       "      <td>0.000000</td>\n",
       "      <td>6.780745e+06</td>\n",
       "    </tr>\n",
       "    <tr>\n",
       "      <th>75%</th>\n",
       "      <td>1.488084e+06</td>\n",
       "      <td>10.000000</td>\n",
       "      <td>1.727900e+04</td>\n",
       "      <td>0.000000</td>\n",
       "      <td>2.619270e+07</td>\n",
       "    </tr>\n",
       "    <tr>\n",
       "      <th>max</th>\n",
       "      <td>1.031685e+08</td>\n",
       "      <td>43889.000000</td>\n",
       "      <td>1.117820e+06</td>\n",
       "      <td>257.000000</td>\n",
       "      <td>1.425887e+09</td>\n",
       "    </tr>\n",
       "  </tbody>\n",
       "</table>\n",
       "</div>"
      ],
      "text/plain": [
       "        total_cases     new_cases  total_deaths  new_deaths    population\n",
       "count  2.190000e+02    219.000000  2.190000e+02  219.000000  2.190000e+02\n",
       "mean   3.142277e+06    746.063927  3.145535e+04    3.114155  3.657335e+07\n",
       "std    9.711701e+06   4024.554486  1.061184e+05   19.789042  1.410873e+08\n",
       "min    1.000000e+00      0.000000  0.000000e+00    0.000000  8.080000e+02\n",
       "25%    2.893600e+04      0.000000  2.315000e+02    0.000000  7.533645e+05\n",
       "50%    2.636420e+05      0.000000  2.686000e+03    0.000000  6.780745e+06\n",
       "75%    1.488084e+06     10.000000  1.727900e+04    0.000000  2.619270e+07\n",
       "max    1.031685e+08  43889.000000  1.117820e+06  257.000000  1.425887e+09"
      ]
     },
     "execution_count": 9,
     "metadata": {},
     "output_type": "execute_result"
    }
   ],
   "source": [
    "new_df.describe()\n"
   ]
  },
  {
   "cell_type": "code",
   "execution_count": 10,
   "id": "1d6076c2",
   "metadata": {},
   "outputs": [
    {
     "data": {
      "text/plain": [
       "103168534"
      ]
     },
     "execution_count": 10,
     "metadata": {},
     "output_type": "execute_result"
    }
   ],
   "source": [
    "# Max Number of Cases: \n",
    "max_cases = new_df['total_cases'].max()\n",
    "max_cases"
   ]
  },
  {
   "cell_type": "code",
   "execution_count": 11,
   "id": "998d5c1d",
   "metadata": {},
   "outputs": [
    {
     "data": {
      "text/plain": [
       "6888722"
      ]
     },
     "execution_count": 11,
     "metadata": {},
     "output_type": "execute_result"
    }
   ],
   "source": [
    "# Total Deathes:\n",
    "t_deathes  = new_df['total_deaths'].sum()\n",
    "t_deathes"
   ]
  },
  {
   "cell_type": "code",
   "execution_count": 12,
   "id": "08de5c2a",
   "metadata": {},
   "outputs": [
    {
     "data": {
      "text/plain": [
       "688158743"
      ]
     },
     "execution_count": 12,
     "metadata": {},
     "output_type": "execute_result"
    }
   ],
   "source": [
    "# Total Cases:\n",
    "t_cases  = new_df['total_cases'].sum()\n",
    "t_cases"
   ]
  },
  {
   "cell_type": "code",
   "execution_count": 13,
   "id": "75267bdf",
   "metadata": {},
   "outputs": [
    {
     "data": {
      "text/plain": [
       "3142277.365296804"
      ]
     },
     "execution_count": 13,
     "metadata": {},
     "output_type": "execute_result"
    }
   ],
   "source": [
    "# Median Cases:\n",
    "M_cases  = new_df['total_cases'].mean()\n",
    "M_cases"
   ]
  },
  {
   "cell_type": "code",
   "execution_count": 14,
   "id": "413d6c60",
   "metadata": {},
   "outputs": [
    {
     "data": {
      "text/plain": [
       "1"
      ]
     },
     "execution_count": 14,
     "metadata": {},
     "output_type": "execute_result"
    }
   ],
   "source": [
    "# Minimum Cases:\n",
    "Mi_cases  = new_df['total_cases'].min()\n",
    "Mi_cases"
   ]
  },
  {
   "cell_type": "code",
   "execution_count": 15,
   "id": "8e80bb8f",
   "metadata": {},
   "outputs": [
    {
     "data": {
      "text/html": [
       "<div>\n",
       "<style scoped>\n",
       "    .dataframe tbody tr th:only-of-type {\n",
       "        vertical-align: middle;\n",
       "    }\n",
       "\n",
       "    .dataframe tbody tr th {\n",
       "        vertical-align: top;\n",
       "    }\n",
       "\n",
       "    .dataframe thead th {\n",
       "        text-align: right;\n",
       "    }\n",
       "</style>\n",
       "<table border=\"1\" class=\"dataframe\">\n",
       "  <thead>\n",
       "    <tr style=\"text-align: right;\">\n",
       "      <th></th>\n",
       "      <th>location</th>\n",
       "      <th>total_cases</th>\n",
       "    </tr>\n",
       "  </thead>\n",
       "  <tbody>\n",
       "    <tr>\n",
       "      <th>233540</th>\n",
       "      <td>United States</td>\n",
       "      <td>103168534</td>\n",
       "    </tr>\n",
       "  </tbody>\n",
       "</table>\n",
       "</div>"
      ],
      "text/plain": [
       "             location  total_cases\n",
       "233540  United States    103168534"
      ]
     },
     "execution_count": 15,
     "metadata": {},
     "output_type": "execute_result"
    }
   ],
   "source": [
    "# Total Cases in USA\n",
    "t_cases_usa = new_df[new_df['location'] == 'United States'][['location','total_cases']]\n",
    "t_cases_usa"
   ]
  },
  {
   "cell_type": "code",
   "execution_count": 16,
   "id": "539ab49e",
   "metadata": {},
   "outputs": [
    {
     "data": {
      "text/plain": [
       "233540    14.991967\n",
       "Name: total_cases, dtype: float64"
      ]
     },
     "execution_count": 16,
     "metadata": {},
     "output_type": "execute_result"
    }
   ],
   "source": [
    "# USA Total Cases percentage comparing with other countries = 14.99 %\n",
    "per_usa = (t_cases_usa['total_cases'] / t_cases ) * 100\n",
    "per_usa"
   ]
  },
  {
   "cell_type": "code",
   "execution_count": 17,
   "id": "d44a7c94",
   "metadata": {},
   "outputs": [
    {
     "data": {
      "text/html": [
       "<div>\n",
       "<style scoped>\n",
       "    .dataframe tbody tr th:only-of-type {\n",
       "        vertical-align: middle;\n",
       "    }\n",
       "\n",
       "    .dataframe tbody tr th {\n",
       "        vertical-align: top;\n",
       "    }\n",
       "\n",
       "    .dataframe thead th {\n",
       "        text-align: right;\n",
       "    }\n",
       "</style>\n",
       "<table border=\"1\" class=\"dataframe\">\n",
       "  <thead>\n",
       "    <tr style=\"text-align: right;\">\n",
       "      <th></th>\n",
       "      <th>location</th>\n",
       "      <th>date</th>\n",
       "      <th>total_cases</th>\n",
       "      <th>new_cases</th>\n",
       "      <th>total_deaths</th>\n",
       "      <th>new_deaths</th>\n",
       "      <th>population</th>\n",
       "    </tr>\n",
       "  </thead>\n",
       "  <tbody>\n",
       "    <tr>\n",
       "      <th>160430</th>\n",
       "      <td>North Korea</td>\n",
       "      <td>2023-02-21</td>\n",
       "      <td>1</td>\n",
       "      <td>0</td>\n",
       "      <td>6</td>\n",
       "      <td>0</td>\n",
       "      <td>26069416</td>\n",
       "    </tr>\n",
       "  </tbody>\n",
       "</table>\n",
       "</div>"
      ],
      "text/plain": [
       "           location       date  total_cases  new_cases  total_deaths  \\\n",
       "160430  North Korea 2023-02-21            1          0             6   \n",
       "\n",
       "        new_deaths  population  \n",
       "160430           0    26069416  "
      ]
     },
     "execution_count": 17,
     "metadata": {},
     "output_type": "execute_result"
    }
   ],
   "source": [
    "# So Minimum number of cases = 1 \n",
    "# Get the country that has the minimum value = 1 \n",
    "\n",
    "min_cases = new_df.loc[new_df['total_cases']== 1]\n",
    "min_cases"
   ]
  },
  {
   "cell_type": "code",
   "execution_count": 18,
   "id": "60176322",
   "metadata": {},
   "outputs": [
    {
     "data": {
      "text/plain": [
       "103168534"
      ]
     },
     "execution_count": 18,
     "metadata": {},
     "output_type": "execute_result"
    }
   ],
   "source": [
    "# Getting Max Nmber of Cases: \n",
    "new_df['total_cases'].max()"
   ]
  },
  {
   "cell_type": "code",
   "execution_count": 19,
   "id": "3e6ed6f4",
   "metadata": {},
   "outputs": [
    {
     "data": {
      "text/html": [
       "<div>\n",
       "<style scoped>\n",
       "    .dataframe tbody tr th:only-of-type {\n",
       "        vertical-align: middle;\n",
       "    }\n",
       "\n",
       "    .dataframe tbody tr th {\n",
       "        vertical-align: top;\n",
       "    }\n",
       "\n",
       "    .dataframe thead th {\n",
       "        text-align: right;\n",
       "    }\n",
       "</style>\n",
       "<table border=\"1\" class=\"dataframe\">\n",
       "  <thead>\n",
       "    <tr style=\"text-align: right;\">\n",
       "      <th></th>\n",
       "      <th>location</th>\n",
       "      <th>date</th>\n",
       "      <th>total_cases</th>\n",
       "      <th>new_cases</th>\n",
       "      <th>total_deaths</th>\n",
       "      <th>new_deaths</th>\n",
       "      <th>population</th>\n",
       "    </tr>\n",
       "  </thead>\n",
       "  <tbody>\n",
       "    <tr>\n",
       "      <th>233540</th>\n",
       "      <td>United States</td>\n",
       "      <td>2023-02-21</td>\n",
       "      <td>103168534</td>\n",
       "      <td>43889</td>\n",
       "      <td>1117820</td>\n",
       "      <td>257</td>\n",
       "      <td>338289856</td>\n",
       "    </tr>\n",
       "  </tbody>\n",
       "</table>\n",
       "</div>"
      ],
      "text/plain": [
       "             location       date  total_cases  new_cases  total_deaths  \\\n",
       "233540  United States 2023-02-21    103168534      43889       1117820   \n",
       "\n",
       "        new_deaths  population  \n",
       "233540         257   338289856  "
      ]
     },
     "execution_count": 19,
     "metadata": {},
     "output_type": "execute_result"
    }
   ],
   "source": [
    "# Getting the country that has the Max value of Cases = 103168534\n",
    "max_cases = new_df.loc[new_df['total_cases']== 103168534]\n",
    "max_cases\n"
   ]
  },
  {
   "cell_type": "code",
   "execution_count": 20,
   "id": "95c9e158",
   "metadata": {},
   "outputs": [
    {
     "data": {
      "text/plain": [
       "31455.351598173515"
      ]
     },
     "execution_count": 20,
     "metadata": {},
     "output_type": "execute_result"
    }
   ],
   "source": [
    "# Getting Average Nmber of Deaths: \n",
    "new_df['total_deaths'].mean()"
   ]
  },
  {
   "cell_type": "code",
   "execution_count": 21,
   "id": "4179f65b",
   "metadata": {},
   "outputs": [
    {
     "data": {
      "text/plain": [
       "6888722"
      ]
     },
     "execution_count": 21,
     "metadata": {},
     "output_type": "execute_result"
    }
   ],
   "source": [
    "# Getting Total number of Deaths:\n",
    "new_df['total_deaths'].sum()"
   ]
  },
  {
   "cell_type": "code",
   "execution_count": 22,
   "id": "0ebb37db",
   "metadata": {},
   "outputs": [
    {
     "data": {
      "text/plain": [
       "0"
      ]
     },
     "execution_count": 22,
     "metadata": {},
     "output_type": "execute_result"
    }
   ],
   "source": [
    "# Getting Min number of Deaths: \n",
    "new_df['total_deaths'].min()"
   ]
  },
  {
   "cell_type": "code",
   "execution_count": 23,
   "id": "90fad825",
   "metadata": {},
   "outputs": [
    {
     "data": {
      "text/plain": [
       "1117820"
      ]
     },
     "execution_count": 23,
     "metadata": {},
     "output_type": "execute_result"
    }
   ],
   "source": [
    "# Getting Max Nmber of Deaths: \n",
    "new_df['total_deaths'].max()"
   ]
  },
  {
   "cell_type": "code",
   "execution_count": 24,
   "id": "803229c7",
   "metadata": {},
   "outputs": [
    {
     "data": {
      "text/html": [
       "<div>\n",
       "<style scoped>\n",
       "    .dataframe tbody tr th:only-of-type {\n",
       "        vertical-align: middle;\n",
       "    }\n",
       "\n",
       "    .dataframe tbody tr th {\n",
       "        vertical-align: top;\n",
       "    }\n",
       "\n",
       "    .dataframe thead th {\n",
       "        text-align: right;\n",
       "    }\n",
       "</style>\n",
       "<table border=\"1\" class=\"dataframe\">\n",
       "  <thead>\n",
       "    <tr style=\"text-align: right;\">\n",
       "      <th></th>\n",
       "      <th>location</th>\n",
       "      <th>date</th>\n",
       "      <th>total_cases</th>\n",
       "      <th>new_cases</th>\n",
       "      <th>total_deaths</th>\n",
       "      <th>new_deaths</th>\n",
       "      <th>population</th>\n",
       "    </tr>\n",
       "  </thead>\n",
       "  <tbody>\n",
       "    <tr>\n",
       "      <th>233540</th>\n",
       "      <td>United States</td>\n",
       "      <td>2023-02-21</td>\n",
       "      <td>103168534</td>\n",
       "      <td>43889</td>\n",
       "      <td>1117820</td>\n",
       "      <td>257</td>\n",
       "      <td>338289856</td>\n",
       "    </tr>\n",
       "  </tbody>\n",
       "</table>\n",
       "</div>"
      ],
      "text/plain": [
       "             location       date  total_cases  new_cases  total_deaths  \\\n",
       "233540  United States 2023-02-21    103168534      43889       1117820   \n",
       "\n",
       "        new_deaths  population  \n",
       "233540         257   338289856  "
      ]
     },
     "execution_count": 24,
     "metadata": {},
     "output_type": "execute_result"
    }
   ],
   "source": [
    "# Getting the country that has the Max value of Deaths = 1117820\n",
    "max_deaths = new_df.loc[new_df['total_deaths']== 1117820]\n",
    "max_deaths"
   ]
  },
  {
   "cell_type": "code",
   "execution_count": 25,
   "id": "5cecb034",
   "metadata": {},
   "outputs": [
    {
     "data": {
      "text/html": [
       "<div>\n",
       "<style scoped>\n",
       "    .dataframe tbody tr th:only-of-type {\n",
       "        vertical-align: middle;\n",
       "    }\n",
       "\n",
       "    .dataframe tbody tr th {\n",
       "        vertical-align: top;\n",
       "    }\n",
       "\n",
       "    .dataframe thead th {\n",
       "        text-align: right;\n",
       "    }\n",
       "</style>\n",
       "<table border=\"1\" class=\"dataframe\">\n",
       "  <thead>\n",
       "    <tr style=\"text-align: right;\">\n",
       "      <th></th>\n",
       "      <th>location</th>\n",
       "      <th>date</th>\n",
       "      <th>total_cases</th>\n",
       "      <th>new_cases</th>\n",
       "      <th>total_deaths</th>\n",
       "      <th>new_deaths</th>\n",
       "      <th>population</th>\n",
       "    </tr>\n",
       "  </thead>\n",
       "  <tbody>\n",
       "    <tr>\n",
       "      <th>74294</th>\n",
       "      <td>Falkland Islands</td>\n",
       "      <td>2023-02-21</td>\n",
       "      <td>1930</td>\n",
       "      <td>0</td>\n",
       "      <td>0</td>\n",
       "      <td>0</td>\n",
       "      <td>3801</td>\n",
       "    </tr>\n",
       "    <tr>\n",
       "      <th>184101</th>\n",
       "      <td>Saint Helena</td>\n",
       "      <td>2023-02-21</td>\n",
       "      <td>2166</td>\n",
       "      <td>0</td>\n",
       "      <td>0</td>\n",
       "      <td>0</td>\n",
       "      <td>5401</td>\n",
       "    </tr>\n",
       "    <tr>\n",
       "      <th>228020</th>\n",
       "      <td>Tuvalu</td>\n",
       "      <td>2023-02-21</td>\n",
       "      <td>2805</td>\n",
       "      <td>0</td>\n",
       "      <td>0</td>\n",
       "      <td>0</td>\n",
       "      <td>11335</td>\n",
       "    </tr>\n",
       "    <tr>\n",
       "      <th>238425</th>\n",
       "      <td>Vatican</td>\n",
       "      <td>2023-02-21</td>\n",
       "      <td>29</td>\n",
       "      <td>0</td>\n",
       "      <td>0</td>\n",
       "      <td>0</td>\n",
       "      <td>808</td>\n",
       "    </tr>\n",
       "  </tbody>\n",
       "</table>\n",
       "</div>"
      ],
      "text/plain": [
       "                location       date  total_cases  new_cases  total_deaths  \\\n",
       "74294   Falkland Islands 2023-02-21         1930          0             0   \n",
       "184101      Saint Helena 2023-02-21         2166          0             0   \n",
       "228020            Tuvalu 2023-02-21         2805          0             0   \n",
       "238425           Vatican 2023-02-21           29          0             0   \n",
       "\n",
       "        new_deaths  population  \n",
       "74294            0        3801  \n",
       "184101           0        5401  \n",
       "228020           0       11335  \n",
       "238425           0         808  "
      ]
     },
     "execution_count": 25,
     "metadata": {},
     "output_type": "execute_result"
    }
   ],
   "source": [
    "# Getting the country that has the Min value of Deaths = 0\n",
    "min_deaths = new_df.loc[new_df['total_deaths']== 0]\n",
    "min_deaths"
   ]
  },
  {
   "cell_type": "code",
   "execution_count": 26,
   "id": "f38c6e9b",
   "metadata": {},
   "outputs": [
    {
     "data": {
      "text/plain": [
       "17568.219363109165"
      ]
     },
     "execution_count": 26,
     "metadata": {},
     "output_type": "execute_result"
    }
   ],
   "source": [
    "df['total_deaths'].mean()"
   ]
  },
  {
   "cell_type": "code",
   "execution_count": 27,
   "id": "fb7edf3c",
   "metadata": {},
   "outputs": [
    {
     "data": {
      "text/plain": [
       "4316950703"
      ]
     },
     "execution_count": 27,
     "metadata": {},
     "output_type": "execute_result"
    }
   ],
   "source": [
    "df['total_deaths'].sum()"
   ]
  },
  {
   "cell_type": "code",
   "execution_count": 28,
   "id": "d38f9f67",
   "metadata": {},
   "outputs": [
    {
     "data": {
      "text/plain": [
       "1117820"
      ]
     },
     "execution_count": 28,
     "metadata": {},
     "output_type": "execute_result"
    }
   ],
   "source": [
    "df['total_deaths'].max()"
   ]
  },
  {
   "cell_type": "code",
   "execution_count": 29,
   "id": "6458a2e7",
   "metadata": {},
   "outputs": [
    {
     "data": {
      "text/plain": [
       "0"
      ]
     },
     "execution_count": 29,
     "metadata": {},
     "output_type": "execute_result"
    }
   ],
   "source": [
    "df['total_deaths'].min()"
   ]
  },
  {
   "cell_type": "code",
   "execution_count": 30,
   "id": "be4acc1a",
   "metadata": {},
   "outputs": [],
   "source": [
    "# 2. At least two analyses of patterns, relationship etc. found in the data."
   ]
  },
  {
   "cell_type": "code",
   "execution_count": 31,
   "id": "2afd8ef3",
   "metadata": {},
   "outputs": [
    {
     "data": {
      "text/html": [
       "<div>\n",
       "<style scoped>\n",
       "    .dataframe tbody tr th:only-of-type {\n",
       "        vertical-align: middle;\n",
       "    }\n",
       "\n",
       "    .dataframe tbody tr th {\n",
       "        vertical-align: top;\n",
       "    }\n",
       "\n",
       "    .dataframe thead th {\n",
       "        text-align: right;\n",
       "    }\n",
       "</style>\n",
       "<table border=\"1\" class=\"dataframe\">\n",
       "  <thead>\n",
       "    <tr style=\"text-align: right;\">\n",
       "      <th></th>\n",
       "      <th>total_cases</th>\n",
       "      <th>new_cases</th>\n",
       "      <th>total_deaths</th>\n",
       "      <th>new_deaths</th>\n",
       "      <th>population</th>\n",
       "    </tr>\n",
       "    <tr>\n",
       "      <th>location</th>\n",
       "      <th></th>\n",
       "      <th></th>\n",
       "      <th></th>\n",
       "      <th></th>\n",
       "      <th></th>\n",
       "    </tr>\n",
       "  </thead>\n",
       "  <tbody>\n",
       "    <tr>\n",
       "      <th>Afghanistan</th>\n",
       "      <td>209181</td>\n",
       "      <td>28</td>\n",
       "      <td>7896</td>\n",
       "      <td>0</td>\n",
       "      <td>41128772</td>\n",
       "    </tr>\n",
       "    <tr>\n",
       "      <th>Albania</th>\n",
       "      <td>334336</td>\n",
       "      <td>21</td>\n",
       "      <td>3596</td>\n",
       "      <td>0</td>\n",
       "      <td>2842318</td>\n",
       "    </tr>\n",
       "    <tr>\n",
       "      <th>Algeria</th>\n",
       "      <td>271428</td>\n",
       "      <td>2</td>\n",
       "      <td>6881</td>\n",
       "      <td>0</td>\n",
       "      <td>44903228</td>\n",
       "    </tr>\n",
       "    <tr>\n",
       "      <th>Andorra</th>\n",
       "      <td>47866</td>\n",
       "      <td>0</td>\n",
       "      <td>165</td>\n",
       "      <td>0</td>\n",
       "      <td>79843</td>\n",
       "    </tr>\n",
       "    <tr>\n",
       "      <th>Angola</th>\n",
       "      <td>105184</td>\n",
       "      <td>0</td>\n",
       "      <td>1931</td>\n",
       "      <td>0</td>\n",
       "      <td>35588996</td>\n",
       "    </tr>\n",
       "    <tr>\n",
       "      <th>...</th>\n",
       "      <td>...</td>\n",
       "      <td>...</td>\n",
       "      <td>...</td>\n",
       "      <td>...</td>\n",
       "      <td>...</td>\n",
       "    </tr>\n",
       "    <tr>\n",
       "      <th>Vietnam</th>\n",
       "      <td>11526834</td>\n",
       "      <td>9</td>\n",
       "      <td>43186</td>\n",
       "      <td>0</td>\n",
       "      <td>98186856</td>\n",
       "    </tr>\n",
       "    <tr>\n",
       "      <th>Wallis and Futuna</th>\n",
       "      <td>3427</td>\n",
       "      <td>0</td>\n",
       "      <td>7</td>\n",
       "      <td>0</td>\n",
       "      <td>11596</td>\n",
       "    </tr>\n",
       "    <tr>\n",
       "      <th>Yemen</th>\n",
       "      <td>11945</td>\n",
       "      <td>0</td>\n",
       "      <td>2159</td>\n",
       "      <td>0</td>\n",
       "      <td>33696612</td>\n",
       "    </tr>\n",
       "    <tr>\n",
       "      <th>Zambia</th>\n",
       "      <td>342782</td>\n",
       "      <td>58</td>\n",
       "      <td>4055</td>\n",
       "      <td>1</td>\n",
       "      <td>20017670</td>\n",
       "    </tr>\n",
       "    <tr>\n",
       "      <th>Zimbabwe</th>\n",
       "      <td>263642</td>\n",
       "      <td>0</td>\n",
       "      <td>5662</td>\n",
       "      <td>0</td>\n",
       "      <td>16320539</td>\n",
       "    </tr>\n",
       "  </tbody>\n",
       "</table>\n",
       "<p>219 rows × 5 columns</p>\n",
       "</div>"
      ],
      "text/plain": [
       "                   total_cases  new_cases  total_deaths  new_deaths  \\\n",
       "location                                                              \n",
       "Afghanistan             209181         28          7896           0   \n",
       "Albania                 334336         21          3596           0   \n",
       "Algeria                 271428          2          6881           0   \n",
       "Andorra                  47866          0           165           0   \n",
       "Angola                  105184          0          1931           0   \n",
       "...                        ...        ...           ...         ...   \n",
       "Vietnam               11526834          9         43186           0   \n",
       "Wallis and Futuna         3427          0             7           0   \n",
       "Yemen                    11945          0          2159           0   \n",
       "Zambia                  342782         58          4055           1   \n",
       "Zimbabwe                263642          0          5662           0   \n",
       "\n",
       "                   population  \n",
       "location                       \n",
       "Afghanistan          41128772  \n",
       "Albania               2842318  \n",
       "Algeria              44903228  \n",
       "Andorra                 79843  \n",
       "Angola               35588996  \n",
       "...                       ...  \n",
       "Vietnam              98186856  \n",
       "Wallis and Futuna       11596  \n",
       "Yemen                33696612  \n",
       "Zambia               20017670  \n",
       "Zimbabwe             16320539  \n",
       "\n",
       "[219 rows x 5 columns]"
      ]
     },
     "execution_count": 31,
     "metadata": {},
     "output_type": "execute_result"
    }
   ],
   "source": [
    "\n",
    "sum_x1 = new_df.groupby('location').sum()\n",
    "sum_x1"
   ]
  },
  {
   "cell_type": "code",
   "execution_count": 32,
   "id": "a21ed820",
   "metadata": {
    "scrolled": true
   },
   "outputs": [
    {
     "name": "stderr",
     "output_type": "stream",
     "text": [
      "/var/folders/rb/8k519z7935d2j5l0x1lztqx40000gn/T/ipykernel_24877/953434844.py:3: FutureWarning: DataFrame.mean and DataFrame.median with numeric_only=None will include datetime64 and datetime64tz columns in a future version.\n",
      "  av_x1 = new_df.mean()\n",
      "/var/folders/rb/8k519z7935d2j5l0x1lztqx40000gn/T/ipykernel_24877/953434844.py:3: FutureWarning: Dropping of nuisance columns in DataFrame reductions (with 'numeric_only=None') is deprecated; in a future version this will raise TypeError.  Select only valid columns before calling the reduction.\n",
      "  av_x1 = new_df.mean()\n"
     ]
    },
    {
     "data": {
      "text/plain": [
       "total_cases     3.142277e+06\n",
       "new_cases       7.460639e+02\n",
       "total_deaths    3.145535e+04\n",
       "new_deaths      3.114155e+00\n",
       "population      3.657335e+07\n",
       "dtype: float64"
      ]
     },
     "execution_count": 32,
     "metadata": {},
     "output_type": "execute_result"
    }
   ],
   "source": [
    "# Modify \n",
    "# av_x1 = new_df.groupby('location').mean()\n",
    "av_x1 = new_df.mean()\n",
    "av_x1"
   ]
  },
  {
   "cell_type": "code",
   "execution_count": 33,
   "id": "96b63caf",
   "metadata": {},
   "outputs": [
    {
     "data": {
      "text/html": [
       "<div>\n",
       "<style scoped>\n",
       "    .dataframe tbody tr th:only-of-type {\n",
       "        vertical-align: middle;\n",
       "    }\n",
       "\n",
       "    .dataframe tbody tr th {\n",
       "        vertical-align: top;\n",
       "    }\n",
       "\n",
       "    .dataframe thead th {\n",
       "        text-align: right;\n",
       "    }\n",
       "</style>\n",
       "<table border=\"1\" class=\"dataframe\">\n",
       "  <thead>\n",
       "    <tr style=\"text-align: right;\">\n",
       "      <th></th>\n",
       "      <th>location</th>\n",
       "      <th>total_cases</th>\n",
       "    </tr>\n",
       "  </thead>\n",
       "  <tbody>\n",
       "    <tr>\n",
       "      <th>1093</th>\n",
       "      <td>Afghanistan</td>\n",
       "      <td>209181</td>\n",
       "    </tr>\n",
       "    <tr>\n",
       "      <th>2186</th>\n",
       "      <td>Albania</td>\n",
       "      <td>334336</td>\n",
       "    </tr>\n",
       "    <tr>\n",
       "      <th>3279</th>\n",
       "      <td>Algeria</td>\n",
       "      <td>271428</td>\n",
       "    </tr>\n",
       "    <tr>\n",
       "      <th>4366</th>\n",
       "      <td>Andorra</td>\n",
       "      <td>47866</td>\n",
       "    </tr>\n",
       "    <tr>\n",
       "      <th>5435</th>\n",
       "      <td>Angola</td>\n",
       "      <td>105184</td>\n",
       "    </tr>\n",
       "    <tr>\n",
       "      <th>...</th>\n",
       "      <td>...</td>\n",
       "      <td>...</td>\n",
       "    </tr>\n",
       "    <tr>\n",
       "      <th>240626</th>\n",
       "      <td>Vietnam</td>\n",
       "      <td>11526834</td>\n",
       "    </tr>\n",
       "    <tr>\n",
       "      <th>242535</th>\n",
       "      <td>Wallis and Futuna</td>\n",
       "      <td>3427</td>\n",
       "    </tr>\n",
       "    <tr>\n",
       "      <th>243584</th>\n",
       "      <td>Yemen</td>\n",
       "      <td>11945</td>\n",
       "    </tr>\n",
       "    <tr>\n",
       "      <th>244655</th>\n",
       "      <td>Zambia</td>\n",
       "      <td>342782</td>\n",
       "    </tr>\n",
       "    <tr>\n",
       "      <th>245724</th>\n",
       "      <td>Zimbabwe</td>\n",
       "      <td>263642</td>\n",
       "    </tr>\n",
       "  </tbody>\n",
       "</table>\n",
       "<p>219 rows × 2 columns</p>\n",
       "</div>"
      ],
      "text/plain": [
       "                 location  total_cases\n",
       "1093          Afghanistan       209181\n",
       "2186              Albania       334336\n",
       "3279              Algeria       271428\n",
       "4366              Andorra        47866\n",
       "5435               Angola       105184\n",
       "...                   ...          ...\n",
       "240626            Vietnam     11526834\n",
       "242535  Wallis and Futuna         3427\n",
       "243584              Yemen        11945\n",
       "244655             Zambia       342782\n",
       "245724           Zimbabwe       263642\n",
       "\n",
       "[219 rows x 2 columns]"
      ]
     },
     "execution_count": 33,
     "metadata": {},
     "output_type": "execute_result"
    }
   ],
   "source": [
    "# Relationship between Location and Total Number of Cases: \n",
    "# rel_loc_cases = new_df.groupby('location')['total_cases'].sum()\n",
    "# Modify\n",
    "\n",
    "rel_loc_cases = new_df[['location','total_cases']]\n",
    "rel_loc_cases"
   ]
  },
  {
   "cell_type": "code",
   "execution_count": 34,
   "id": "5eea139e",
   "metadata": {},
   "outputs": [
    {
     "data": {
      "text/html": [
       "<div>\n",
       "<style scoped>\n",
       "    .dataframe tbody tr th:only-of-type {\n",
       "        vertical-align: middle;\n",
       "    }\n",
       "\n",
       "    .dataframe tbody tr th {\n",
       "        vertical-align: top;\n",
       "    }\n",
       "\n",
       "    .dataframe thead th {\n",
       "        text-align: right;\n",
       "    }\n",
       "</style>\n",
       "<table border=\"1\" class=\"dataframe\">\n",
       "  <thead>\n",
       "    <tr style=\"text-align: right;\">\n",
       "      <th></th>\n",
       "      <th>location</th>\n",
       "      <th>total_deaths</th>\n",
       "    </tr>\n",
       "  </thead>\n",
       "  <tbody>\n",
       "    <tr>\n",
       "      <th>1093</th>\n",
       "      <td>Afghanistan</td>\n",
       "      <td>7896</td>\n",
       "    </tr>\n",
       "    <tr>\n",
       "      <th>2186</th>\n",
       "      <td>Albania</td>\n",
       "      <td>3596</td>\n",
       "    </tr>\n",
       "    <tr>\n",
       "      <th>3279</th>\n",
       "      <td>Algeria</td>\n",
       "      <td>6881</td>\n",
       "    </tr>\n",
       "    <tr>\n",
       "      <th>4366</th>\n",
       "      <td>Andorra</td>\n",
       "      <td>165</td>\n",
       "    </tr>\n",
       "    <tr>\n",
       "      <th>5435</th>\n",
       "      <td>Angola</td>\n",
       "      <td>1931</td>\n",
       "    </tr>\n",
       "    <tr>\n",
       "      <th>...</th>\n",
       "      <td>...</td>\n",
       "      <td>...</td>\n",
       "    </tr>\n",
       "    <tr>\n",
       "      <th>240626</th>\n",
       "      <td>Vietnam</td>\n",
       "      <td>43186</td>\n",
       "    </tr>\n",
       "    <tr>\n",
       "      <th>242535</th>\n",
       "      <td>Wallis and Futuna</td>\n",
       "      <td>7</td>\n",
       "    </tr>\n",
       "    <tr>\n",
       "      <th>243584</th>\n",
       "      <td>Yemen</td>\n",
       "      <td>2159</td>\n",
       "    </tr>\n",
       "    <tr>\n",
       "      <th>244655</th>\n",
       "      <td>Zambia</td>\n",
       "      <td>4055</td>\n",
       "    </tr>\n",
       "    <tr>\n",
       "      <th>245724</th>\n",
       "      <td>Zimbabwe</td>\n",
       "      <td>5662</td>\n",
       "    </tr>\n",
       "  </tbody>\n",
       "</table>\n",
       "<p>219 rows × 2 columns</p>\n",
       "</div>"
      ],
      "text/plain": [
       "                 location  total_deaths\n",
       "1093          Afghanistan          7896\n",
       "2186              Albania          3596\n",
       "3279              Algeria          6881\n",
       "4366              Andorra           165\n",
       "5435               Angola          1931\n",
       "...                   ...           ...\n",
       "240626            Vietnam         43186\n",
       "242535  Wallis and Futuna             7\n",
       "243584              Yemen          2159\n",
       "244655             Zambia          4055\n",
       "245724           Zimbabwe          5662\n",
       "\n",
       "[219 rows x 2 columns]"
      ]
     },
     "execution_count": 34,
     "metadata": {},
     "output_type": "execute_result"
    }
   ],
   "source": [
    "# Relationship between Location and Total Number of Deaths: \n",
    "\n",
    "rel_loc_deaths = new_df[['location','total_deaths']]\n",
    "rel_loc_deaths"
   ]
  },
  {
   "cell_type": "code",
   "execution_count": 35,
   "id": "59bae1fd",
   "metadata": {},
   "outputs": [
    {
     "data": {
      "text/html": [
       "<div>\n",
       "<style scoped>\n",
       "    .dataframe tbody tr th:only-of-type {\n",
       "        vertical-align: middle;\n",
       "    }\n",
       "\n",
       "    .dataframe tbody tr th {\n",
       "        vertical-align: top;\n",
       "    }\n",
       "\n",
       "    .dataframe thead th {\n",
       "        text-align: right;\n",
       "    }\n",
       "</style>\n",
       "<table border=\"1\" class=\"dataframe\">\n",
       "  <thead>\n",
       "    <tr style=\"text-align: right;\">\n",
       "      <th></th>\n",
       "      <th>location</th>\n",
       "      <th>total_cases</th>\n",
       "    </tr>\n",
       "  </thead>\n",
       "  <tbody>\n",
       "    <tr>\n",
       "      <th>233540</th>\n",
       "      <td>United States</td>\n",
       "      <td>103168534</td>\n",
       "    </tr>\n",
       "    <tr>\n",
       "      <th>100897</th>\n",
       "      <td>India</td>\n",
       "      <td>44686483</td>\n",
       "    </tr>\n",
       "    <tr>\n",
       "      <th>77658</th>\n",
       "      <td>France</td>\n",
       "      <td>39636047</td>\n",
       "    </tr>\n",
       "    <tr>\n",
       "      <th>83095</th>\n",
       "      <td>Germany</td>\n",
       "      <td>38043874</td>\n",
       "    </tr>\n",
       "    <tr>\n",
       "      <th>30400</th>\n",
       "      <td>Brazil</td>\n",
       "      <td>36987682</td>\n",
       "    </tr>\n",
       "    <tr>\n",
       "      <th>110756</th>\n",
       "      <td>Japan</td>\n",
       "      <td>33139504</td>\n",
       "    </tr>\n",
       "    <tr>\n",
       "      <th>205954</th>\n",
       "      <td>South Korea</td>\n",
       "      <td>30458857</td>\n",
       "    </tr>\n",
       "    <tr>\n",
       "      <th>108551</th>\n",
       "      <td>Italy</td>\n",
       "      <td>25547414</td>\n",
       "    </tr>\n",
       "    <tr>\n",
       "      <th>232413</th>\n",
       "      <td>United Kingdom</td>\n",
       "      <td>24341615</td>\n",
       "    </tr>\n",
       "    <tr>\n",
       "      <th>182128</th>\n",
       "      <td>Russia</td>\n",
       "      <td>21878868</td>\n",
       "    </tr>\n",
       "  </tbody>\n",
       "</table>\n",
       "</div>"
      ],
      "text/plain": [
       "              location  total_cases\n",
       "233540   United States    103168534\n",
       "100897           India     44686483\n",
       "77658           France     39636047\n",
       "83095          Germany     38043874\n",
       "30400           Brazil     36987682\n",
       "110756           Japan     33139504\n",
       "205954     South Korea     30458857\n",
       "108551           Italy     25547414\n",
       "232413  United Kingdom     24341615\n",
       "182128          Russia     21878868"
      ]
     },
     "execution_count": 35,
     "metadata": {},
     "output_type": "execute_result"
    }
   ],
   "source": [
    "# Top 10 Countries total_cases: \n",
    "t10_cases = rel_loc_cases.sort_values(by = 'total_cases', ascending=False).head(10)\n",
    "t10_cases\n"
   ]
  },
  {
   "cell_type": "code",
   "execution_count": 36,
   "id": "eeac6b0d",
   "metadata": {},
   "outputs": [
    {
     "data": {
      "text/html": [
       "<div>\n",
       "<style scoped>\n",
       "    .dataframe tbody tr th:only-of-type {\n",
       "        vertical-align: middle;\n",
       "    }\n",
       "\n",
       "    .dataframe tbody tr th {\n",
       "        vertical-align: top;\n",
       "    }\n",
       "\n",
       "    .dataframe thead th {\n",
       "        text-align: right;\n",
       "    }\n",
       "</style>\n",
       "<table border=\"1\" class=\"dataframe\">\n",
       "  <thead>\n",
       "    <tr style=\"text-align: right;\">\n",
       "      <th></th>\n",
       "      <th>location</th>\n",
       "      <th>total_deaths</th>\n",
       "    </tr>\n",
       "  </thead>\n",
       "  <tbody>\n",
       "    <tr>\n",
       "      <th>233540</th>\n",
       "      <td>United States</td>\n",
       "      <td>1117820</td>\n",
       "    </tr>\n",
       "    <tr>\n",
       "      <th>30400</th>\n",
       "      <td>Brazil</td>\n",
       "      <td>698050</td>\n",
       "    </tr>\n",
       "    <tr>\n",
       "      <th>100897</th>\n",
       "      <td>India</td>\n",
       "      <td>530762</td>\n",
       "    </tr>\n",
       "    <tr>\n",
       "      <th>182128</th>\n",
       "      <td>Russia</td>\n",
       "      <td>387899</td>\n",
       "    </tr>\n",
       "    <tr>\n",
       "      <th>140174</th>\n",
       "      <td>Mexico</td>\n",
       "      <td>332850</td>\n",
       "    </tr>\n",
       "    <tr>\n",
       "      <th>174256</th>\n",
       "      <td>Peru</td>\n",
       "      <td>219351</td>\n",
       "    </tr>\n",
       "    <tr>\n",
       "      <th>232413</th>\n",
       "      <td>United Kingdom</td>\n",
       "      <td>218405</td>\n",
       "    </tr>\n",
       "    <tr>\n",
       "      <th>108551</th>\n",
       "      <td>Italy</td>\n",
       "      <td>187850</td>\n",
       "    </tr>\n",
       "    <tr>\n",
       "      <th>83095</th>\n",
       "      <td>Germany</td>\n",
       "      <td>167491</td>\n",
       "    </tr>\n",
       "    <tr>\n",
       "      <th>77658</th>\n",
       "      <td>France</td>\n",
       "      <td>164860</td>\n",
       "    </tr>\n",
       "  </tbody>\n",
       "</table>\n",
       "</div>"
      ],
      "text/plain": [
       "              location  total_deaths\n",
       "233540   United States       1117820\n",
       "30400           Brazil        698050\n",
       "100897           India        530762\n",
       "182128          Russia        387899\n",
       "140174          Mexico        332850\n",
       "174256            Peru        219351\n",
       "232413  United Kingdom        218405\n",
       "108551           Italy        187850\n",
       "83095          Germany        167491\n",
       "77658           France        164860"
      ]
     },
     "execution_count": 36,
     "metadata": {},
     "output_type": "execute_result"
    }
   ],
   "source": [
    "# Top 10 Countries Death Cases:\n",
    "t10_deaths = rel_loc_deaths.sort_values(by = 'total_deaths' , ascending=False).head(10)\n",
    "t10_deaths"
   ]
  },
  {
   "cell_type": "code",
   "execution_count": 37,
   "id": "30b08abf",
   "metadata": {},
   "outputs": [
    {
     "data": {
      "text/html": [
       "<div>\n",
       "<style scoped>\n",
       "    .dataframe tbody tr th:only-of-type {\n",
       "        vertical-align: middle;\n",
       "    }\n",
       "\n",
       "    .dataframe tbody tr th {\n",
       "        vertical-align: top;\n",
       "    }\n",
       "\n",
       "    .dataframe thead th {\n",
       "        text-align: right;\n",
       "    }\n",
       "</style>\n",
       "<table border=\"1\" class=\"dataframe\">\n",
       "  <thead>\n",
       "    <tr style=\"text-align: right;\">\n",
       "      <th></th>\n",
       "      <th>population</th>\n",
       "      <th>total_deaths</th>\n",
       "    </tr>\n",
       "  </thead>\n",
       "  <tbody>\n",
       "    <tr>\n",
       "      <th>1093</th>\n",
       "      <td>41128772</td>\n",
       "      <td>7896</td>\n",
       "    </tr>\n",
       "    <tr>\n",
       "      <th>2186</th>\n",
       "      <td>2842318</td>\n",
       "      <td>3596</td>\n",
       "    </tr>\n",
       "    <tr>\n",
       "      <th>3279</th>\n",
       "      <td>44903228</td>\n",
       "      <td>6881</td>\n",
       "    </tr>\n",
       "    <tr>\n",
       "      <th>4366</th>\n",
       "      <td>79843</td>\n",
       "      <td>165</td>\n",
       "    </tr>\n",
       "    <tr>\n",
       "      <th>5435</th>\n",
       "      <td>35588996</td>\n",
       "      <td>1931</td>\n",
       "    </tr>\n",
       "    <tr>\n",
       "      <th>...</th>\n",
       "      <td>...</td>\n",
       "      <td>...</td>\n",
       "    </tr>\n",
       "    <tr>\n",
       "      <th>240626</th>\n",
       "      <td>98186856</td>\n",
       "      <td>43186</td>\n",
       "    </tr>\n",
       "    <tr>\n",
       "      <th>242535</th>\n",
       "      <td>11596</td>\n",
       "      <td>7</td>\n",
       "    </tr>\n",
       "    <tr>\n",
       "      <th>243584</th>\n",
       "      <td>33696612</td>\n",
       "      <td>2159</td>\n",
       "    </tr>\n",
       "    <tr>\n",
       "      <th>244655</th>\n",
       "      <td>20017670</td>\n",
       "      <td>4055</td>\n",
       "    </tr>\n",
       "    <tr>\n",
       "      <th>245724</th>\n",
       "      <td>16320539</td>\n",
       "      <td>5662</td>\n",
       "    </tr>\n",
       "  </tbody>\n",
       "</table>\n",
       "<p>219 rows × 2 columns</p>\n",
       "</div>"
      ],
      "text/plain": [
       "        population  total_deaths\n",
       "1093      41128772          7896\n",
       "2186       2842318          3596\n",
       "3279      44903228          6881\n",
       "4366         79843           165\n",
       "5435      35588996          1931\n",
       "...            ...           ...\n",
       "240626    98186856         43186\n",
       "242535       11596             7\n",
       "243584    33696612          2159\n",
       "244655    20017670          4055\n",
       "245724    16320539          5662\n",
       "\n",
       "[219 rows x 2 columns]"
      ]
     },
     "execution_count": 37,
     "metadata": {},
     "output_type": "execute_result"
    }
   ],
   "source": [
    "# Relationship between Population and Total Number of Deaths: \n",
    "rel_pop_death = new_df[['population' , 'total_deaths']]\n",
    "rel_pop_death"
   ]
  },
  {
   "cell_type": "code",
   "execution_count": 38,
   "id": "11777dc4",
   "metadata": {},
   "outputs": [
    {
     "data": {
      "text/html": [
       "<div>\n",
       "<style scoped>\n",
       "    .dataframe tbody tr th:only-of-type {\n",
       "        vertical-align: middle;\n",
       "    }\n",
       "\n",
       "    .dataframe tbody tr th {\n",
       "        vertical-align: top;\n",
       "    }\n",
       "\n",
       "    .dataframe thead th {\n",
       "        text-align: right;\n",
       "    }\n",
       "</style>\n",
       "<table border=\"1\" class=\"dataframe\">\n",
       "  <thead>\n",
       "    <tr style=\"text-align: right;\">\n",
       "      <th></th>\n",
       "      <th>population</th>\n",
       "      <th>total_deaths</th>\n",
       "    </tr>\n",
       "  </thead>\n",
       "  <tbody>\n",
       "    <tr>\n",
       "      <th>45601</th>\n",
       "      <td>1425887360</td>\n",
       "      <td>87468</td>\n",
       "    </tr>\n",
       "    <tr>\n",
       "      <th>100897</th>\n",
       "      <td>1417173120</td>\n",
       "      <td>530762</td>\n",
       "    </tr>\n",
       "    <tr>\n",
       "      <th>233540</th>\n",
       "      <td>338289856</td>\n",
       "      <td>1117820</td>\n",
       "    </tr>\n",
       "    <tr>\n",
       "      <th>101984</th>\n",
       "      <td>275501344</td>\n",
       "      <td>160892</td>\n",
       "    </tr>\n",
       "    <tr>\n",
       "      <th>168309</th>\n",
       "      <td>235824864</td>\n",
       "      <td>30641</td>\n",
       "    </tr>\n",
       "    <tr>\n",
       "      <th>158932</th>\n",
       "      <td>218541216</td>\n",
       "      <td>3155</td>\n",
       "    </tr>\n",
       "    <tr>\n",
       "      <th>30400</th>\n",
       "      <td>215313504</td>\n",
       "      <td>698050</td>\n",
       "    </tr>\n",
       "    <tr>\n",
       "      <th>17463</th>\n",
       "      <td>171186368</td>\n",
       "      <td>29445</td>\n",
       "    </tr>\n",
       "    <tr>\n",
       "      <th>182128</th>\n",
       "      <td>144713312</td>\n",
       "      <td>387899</td>\n",
       "    </tr>\n",
       "    <tr>\n",
       "      <th>140174</th>\n",
       "      <td>127504120</td>\n",
       "      <td>332850</td>\n",
       "    </tr>\n",
       "  </tbody>\n",
       "</table>\n",
       "</div>"
      ],
      "text/plain": [
       "        population  total_deaths\n",
       "45601   1425887360         87468\n",
       "100897  1417173120        530762\n",
       "233540   338289856       1117820\n",
       "101984   275501344        160892\n",
       "168309   235824864         30641\n",
       "158932   218541216          3155\n",
       "30400    215313504        698050\n",
       "17463    171186368         29445\n",
       "182128   144713312        387899\n",
       "140174   127504120        332850"
      ]
     },
     "execution_count": 38,
     "metadata": {},
     "output_type": "execute_result"
    }
   ],
   "source": [
    "# Top 10 Poulation with total_Deaths:\n",
    "t10_pop_death = rel_pop_death.sort_values(by ='population' , ascending=False).head(10)\n",
    "t10_pop_death\n"
   ]
  },
  {
   "cell_type": "code",
   "execution_count": 39,
   "id": "91f5ae38",
   "metadata": {},
   "outputs": [],
   "source": [
    "\n",
    "# 3. At least two visualizations - at least one for statistical summary, at least one for\n",
    "# analysis."
   ]
  },
  {
   "cell_type": "code",
   "execution_count": 40,
   "id": "d7452317",
   "metadata": {},
   "outputs": [
    {
     "data": {
      "image/png": "[encoded data removed]",
      "text/plain": [
       "<Figure size 640x480 with 1 Axes>"
      ]
     },
     "metadata": {},
     "output_type": "display_data"
    }
   ],
   "source": [
    "# Bar Chart for Top 10 Countries Death Cases:\n",
    "\n",
    "\n",
    "# Create the bar chart\n",
    "plt.bar(t10_deaths['location'], t10_deaths['total_deaths'])\n",
    "\n",
    "# Add labels and title\n",
    "plt.xlabel('Country')\n",
    "plt.ylabel('Number of Deaths x 10^6')\n",
    "plt.title('Number of Deaths by Country')\n",
    "\n",
    "# Rotate the x-axis labels for readability\n",
    "plt.xticks(rotation=90)\n",
    "\n",
    "# Display the plot\n",
    "plt.show()"
   ]
  },
  {
   "cell_type": "code",
   "execution_count": 41,
   "id": "0f365339",
   "metadata": {},
   "outputs": [
    {
     "data": {
      "image/png": "[encoded data removed]",
      "text/plain": [
       "<Figure size 640x480 with 1 Axes>"
      ]
     },
     "metadata": {},
     "output_type": "display_data"
    }
   ],
   "source": [
    "plt.pie(t10_cases['total_cases'], labels = t10_cases['location'])\n",
    "plt.title('Top 10 Countries for the cases')\n",
    "plt.show()\n",
    "\n"
   ]
  },
  {
   "cell_type": "code",
   "execution_count": 42,
   "id": "04e8022e",
   "metadata": {},
   "outputs": [
    {
     "data": {
      "image/png": "[encoded data removed]",
      "text/plain": [
       "<Figure size 640x480 with 1 Axes>"
      ]
     },
     "metadata": {},
     "output_type": "display_data"
    }
   ],
   "source": [
    "# Line chart indicating the total cases over time for a specific location\n",
    "df[df['location']=='United States'].plot(x='date', y='total_cases')\n",
    "plt.title(\"Total cases in the United States over time\")\n",
    "plt.xlabel(\"Date\")\n",
    "plt.ylabel(\"Total casesx 10^8\")\n",
    "plt.show()"
   ]
  },
  {
   "cell_type": "code",
   "execution_count": 43,
   "id": "7b0df502",
   "metadata": {
    "scrolled": true
   },
   "outputs": [
    {
     "data": {
      "text/html": [
       "<div>\n",
       "<style scoped>\n",
       "    .dataframe tbody tr th:only-of-type {\n",
       "        vertical-align: middle;\n",
       "    }\n",
       "\n",
       "    .dataframe tbody tr th {\n",
       "        vertical-align: top;\n",
       "    }\n",
       "\n",
       "    .dataframe thead th {\n",
       "        text-align: right;\n",
       "    }\n",
       "</style>\n",
       "<table border=\"1\" class=\"dataframe\">\n",
       "  <thead>\n",
       "    <tr style=\"text-align: right;\">\n",
       "      <th></th>\n",
       "      <th>location</th>\n",
       "      <th>date</th>\n",
       "      <th>total_cases</th>\n",
       "      <th>new_cases</th>\n",
       "      <th>total_deaths</th>\n",
       "      <th>new_deaths</th>\n",
       "      <th>population</th>\n",
       "    </tr>\n",
       "  </thead>\n",
       "  <tbody>\n",
       "    <tr>\n",
       "      <th>232414</th>\n",
       "      <td>United States</td>\n",
       "      <td>2020-01-22</td>\n",
       "      <td>1</td>\n",
       "      <td>0</td>\n",
       "      <td>0</td>\n",
       "      <td>0</td>\n",
       "      <td>338289856</td>\n",
       "    </tr>\n",
       "    <tr>\n",
       "      <th>232415</th>\n",
       "      <td>United States</td>\n",
       "      <td>2020-01-23</td>\n",
       "      <td>1</td>\n",
       "      <td>0</td>\n",
       "      <td>0</td>\n",
       "      <td>0</td>\n",
       "      <td>338289856</td>\n",
       "    </tr>\n",
       "    <tr>\n",
       "      <th>232416</th>\n",
       "      <td>United States</td>\n",
       "      <td>2020-01-24</td>\n",
       "      <td>2</td>\n",
       "      <td>1</td>\n",
       "      <td>0</td>\n",
       "      <td>0</td>\n",
       "      <td>338289856</td>\n",
       "    </tr>\n",
       "    <tr>\n",
       "      <th>232417</th>\n",
       "      <td>United States</td>\n",
       "      <td>2020-01-25</td>\n",
       "      <td>2</td>\n",
       "      <td>0</td>\n",
       "      <td>0</td>\n",
       "      <td>0</td>\n",
       "      <td>338289856</td>\n",
       "    </tr>\n",
       "    <tr>\n",
       "      <th>232418</th>\n",
       "      <td>United States</td>\n",
       "      <td>2020-01-26</td>\n",
       "      <td>5</td>\n",
       "      <td>3</td>\n",
       "      <td>0</td>\n",
       "      <td>0</td>\n",
       "      <td>338289856</td>\n",
       "    </tr>\n",
       "    <tr>\n",
       "      <th>...</th>\n",
       "      <td>...</td>\n",
       "      <td>...</td>\n",
       "      <td>...</td>\n",
       "      <td>...</td>\n",
       "      <td>...</td>\n",
       "      <td>...</td>\n",
       "      <td>...</td>\n",
       "    </tr>\n",
       "    <tr>\n",
       "      <th>233536</th>\n",
       "      <td>United States</td>\n",
       "      <td>2023-02-17</td>\n",
       "      <td>103121205</td>\n",
       "      <td>48637</td>\n",
       "      <td>1117482</td>\n",
       "      <td>709</td>\n",
       "      <td>338289856</td>\n",
       "    </tr>\n",
       "    <tr>\n",
       "      <th>233537</th>\n",
       "      <td>United States</td>\n",
       "      <td>2023-02-18</td>\n",
       "      <td>103123281</td>\n",
       "      <td>2076</td>\n",
       "      <td>1117497</td>\n",
       "      <td>15</td>\n",
       "      <td>338289856</td>\n",
       "    </tr>\n",
       "    <tr>\n",
       "      <th>233538</th>\n",
       "      <td>United States</td>\n",
       "      <td>2023-02-19</td>\n",
       "      <td>103124043</td>\n",
       "      <td>762</td>\n",
       "      <td>1117497</td>\n",
       "      <td>0</td>\n",
       "      <td>338289856</td>\n",
       "    </tr>\n",
       "    <tr>\n",
       "      <th>233539</th>\n",
       "      <td>United States</td>\n",
       "      <td>2023-02-20</td>\n",
       "      <td>103124645</td>\n",
       "      <td>602</td>\n",
       "      <td>1117563</td>\n",
       "      <td>66</td>\n",
       "      <td>338289856</td>\n",
       "    </tr>\n",
       "    <tr>\n",
       "      <th>233540</th>\n",
       "      <td>United States</td>\n",
       "      <td>2023-02-21</td>\n",
       "      <td>103168534</td>\n",
       "      <td>43889</td>\n",
       "      <td>1117820</td>\n",
       "      <td>257</td>\n",
       "      <td>338289856</td>\n",
       "    </tr>\n",
       "  </tbody>\n",
       "</table>\n",
       "<p>1127 rows × 7 columns</p>\n",
       "</div>"
      ],
      "text/plain": [
       "             location       date  total_cases  new_cases  total_deaths  \\\n",
       "232414  United States 2020-01-22            1          0             0   \n",
       "232415  United States 2020-01-23            1          0             0   \n",
       "232416  United States 2020-01-24            2          1             0   \n",
       "232417  United States 2020-01-25            2          0             0   \n",
       "232418  United States 2020-01-26            5          3             0   \n",
       "...               ...        ...          ...        ...           ...   \n",
       "233536  United States 2023-02-17    103121205      48637       1117482   \n",
       "233537  United States 2023-02-18    103123281       2076       1117497   \n",
       "233538  United States 2023-02-19    103124043        762       1117497   \n",
       "233539  United States 2023-02-20    103124645        602       1117563   \n",
       "233540  United States 2023-02-21    103168534      43889       1117820   \n",
       "\n",
       "        new_deaths  population  \n",
       "232414           0   338289856  \n",
       "232415           0   338289856  \n",
       "232416           0   338289856  \n",
       "232417           0   338289856  \n",
       "232418           0   338289856  \n",
       "...            ...         ...  \n",
       "233536         709   338289856  \n",
       "233537          15   338289856  \n",
       "233538           0   338289856  \n",
       "233539          66   338289856  \n",
       "233540         257   338289856  \n",
       "\n",
       "[1127 rows x 7 columns]"
      ]
     },
     "execution_count": 43,
     "metadata": {},
     "output_type": "execute_result"
    }
   ],
   "source": [
    "us_df = df[df['location'] == 'United States']\n",
    "us_df"
   ]
  },
  {
   "cell_type": "code",
   "execution_count": 44,
   "id": "2f25e0ba",
   "metadata": {},
   "outputs": [
    {
     "data": {
      "image/png": "[encoded data removed]",
      "text/plain": [
       "<Figure size 640x480 with 1 Axes>"
      ]
     },
     "metadata": {},
     "output_type": "display_data"
    }
   ],
   "source": [
    "plt.plot(us_df['date'] , us_df['total_deaths'])\n",
    "plt.xticks(rotation = 45)\n",
    "plt.title(\"Total Deaths in the United States over time\")\n",
    "plt.xlabel(\"Date\")\n",
    "plt.ylabel(\"Total casesx 10^6\")\n",
    "plt.show()"
   ]
  },
  {
   "cell_type": "code",
   "execution_count": 45,
   "id": "c19902b1",
   "metadata": {},
   "outputs": [
    {
     "data": {
      "image/png": "[encoded data removed]",
      "text/plain": [
       "<Figure size 640x480 with 1 Axes>"
      ]
     },
     "metadata": {},
     "output_type": "display_data"
    }
   ],
   "source": [
    "plt.plot(us_df['date'] , us_df['total_cases'])\n",
    "plt.xticks(rotation = 45)\n",
    "plt.title(\"Total Cases in the United States over time\")\n",
    "plt.xlabel(\"Date\")\n",
    "plt.ylabel(\"Total casesx 10^8\")\n",
    "plt.show()"
   ]
  },
  {
   "cell_type": "code",
   "execution_count": 46,
   "id": "30b303cb",
   "metadata": {},
   "outputs": [
    {
     "data": {
      "text/plain": [
       "\"\\nIn this project, I've chosen Covid-19 Countries Data, So as a first step, I've imported the required libraries such as numpy, pandas, matplotlib.pyplot etc.. then, I've loaded covid_countries_data.csv file by using pd.read_csv. then I looked at the top 200 records we have.  As we have the records cumulative till date 02.21.2023 I filtered the records to be in that date by having a new data frame called  new_df. I got total cases t_cases by using .sum() = 688158743 cases, \\nThe Maximum number for cases max_cases = 10316853 which is the United States, \\nthe total number of deaths t_deathes = 6888722, Median number of cases  M_cases = 3142277.37 cases. Minimum number of cases Mi_cases = 1. The minimum number of deaths = 0 so I got the countries that have minimum value = 0 which are Falkland Islands, Saint Helena, Tuvalu and the Vatican. For the second task, I used groupby() for the locations and got the summation of the total deaths in each country then I've chosen the top countries in cases I found the first country with the highest record of cases = United States with   103168534 cases, India was the second country, then France, Germany, Brazil, Japan, South Korea, Italy, United Kingdom at the end Russia with           21878868 cases. Top death cases I found the United States at the first record 1117820\\ndeath followed by Brazil, followed by India, then, Russia, Mexico, Peru, United Kingdom, Italy, Germany and  France at the bottom of the list.    \\nI got a relationship between the population and the total number of deaths then I found nearly when we have a large number of population will have large number of deaths and cases. \\nI did a visualization for the top ten countries having  Death Cases by using a bar chart as we see the United States has the first record and the last country is France. I used a Pie chart to show the top ten cases we found the United States has the largest part. I used a line chart to visualize the total cases in the united states over time I found the trend is raising so it is exponential relation between the time and the number of cases. Similarly in the death cases, number of deaths is increasing over time. \\n \""
      ]
     },
     "execution_count": 46,
     "metadata": {},
     "output_type": "execute_result"
    }
   ],
   "source": [
    "\"\"\"\n",
    "In this project, I've chosen Covid-19 Countries Data, So as a first step, I've imported the required libraries such as numpy, pandas, matplotlib.pyplot etc.. then, I've loaded covid_countries_data.csv file by using pd.read_csv. then I looked at the top 200 records we have.  As we have the records cumulative till date 02.21.2023 I filtered the records to be in that date by having a new data frame called  new_df. I got total cases t_cases by using .sum() = 688158743 cases, \n",
    "The Maximum number for cases max_cases = 10316853 which is the United States, \n",
    "the total number of deaths t_deathes = 6888722, Median number of cases  M_cases = 3142277.37 cases. Minimum number of cases Mi_cases = 1. The minimum number of deaths = 0 so I got the countries that have minimum value = 0 which are Falkland Islands, Saint Helena, Tuvalu and the Vatican. For the second task, I used groupby() for the locations and got the summation of the total deaths in each country then I've chosen the top countries in cases I found the first country with the highest record of cases = United States with   103168534 cases, India was the second country, then France, Germany, Brazil, Japan, South Korea, Italy, United Kingdom at the end Russia with           21878868 cases. Top death cases I found the United States at the first record 1117820\n",
    "death followed by Brazil, followed by India, then, Russia, Mexico, Peru, United Kingdom, Italy, Germany and  France at the bottom of the list.    \n",
    "I got a relationship between the population and the total number of deaths then I found nearly when we have a large number of population will have large number of deaths and cases. \n",
    "I did a visualization for the top ten countries having  Death Cases by using a bar chart as we see the United States has the first record and the last country is France. I used a Pie chart to show the top ten cases we found the United States has the largest part. I used a line chart to visualize the total cases in the united states over time I found the trend is raising so it is exponential relation between the time and the number of cases. Similarly in the death cases, number of deaths is increasing over time. \n",
    " \"\"\""
   ]
  },
  {
   "cell_type": "code",
   "execution_count": null,
   "id": "15f3ccd3",
   "metadata": {},
   "outputs": [],
   "source": []
  }
 ],
 "metadata": {
  "kernelspec": {
   "display_name": "Python 3 (ipykernel)",
   "language": "python",
   "name": "python3"
  },
  "language_info": {
   "codemirror_mode": {
    "name": "ipython",
    "version": 3
   },
   "file_extension": ".py",
   "mimetype": "text/x-python",
   "name": "python",
   "nbconvert_exporter": "python",
   "pygments_lexer": "ipython3",
   "version": "3.9.13"
  }
 },
 "nbformat": 4,
 "nbformat_minor": 5
}
